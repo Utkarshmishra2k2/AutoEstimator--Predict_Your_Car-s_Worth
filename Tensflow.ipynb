{
  "nbformat": 4,
  "nbformat_minor": 0,
  "metadata": {
    "colab": {
      "private_outputs": true,
      "provenance": [],
      "authorship_tag": "ABX9TyNGsI58botn/BGZQ6nsUSTi",
      "include_colab_link": true
    },
    "kernelspec": {
      "name": "python3",
      "display_name": "Python 3"
    },
    "language_info": {
      "name": "python"
    }
  },
  "cells": [
    {
      "cell_type": "markdown",
      "metadata": {
        "id": "view-in-github",
        "colab_type": "text"
      },
      "source": [
        "<a href=\"https://colab.research.google.com/github/Utkarshmishra2k2/AutoEstimator--Predict_Your_Car-s_Worth/blob/main/Tensflow.ipynb\" target=\"_parent\"><img src=\"https://colab.research.google.com/assets/colab-badge.svg\" alt=\"Open In Colab\"/></a>"
      ]
    },
    {
      "cell_type": "code",
      "execution_count": null,
      "metadata": {
        "id": "5Xl3T7z2CI10"
      },
      "outputs": [],
      "source": [
        "print(\"Jay Mahakal\")"
      ]
    },
    {
      "cell_type": "code",
      "source": [
        "import math\n",
        "import pandas as pd\n",
        "import numpy as np\n",
        "import plotly.express as px\n",
        "import plotly.graph_objects as go\n",
        "import shap"
      ],
      "metadata": {
        "id": "s8kgKrPnEQoV"
      },
      "execution_count": null,
      "outputs": []
    },
    {
      "cell_type": "code",
      "source": [
        "from sklearn.preprocessing import StandardScaler, LabelEncoder\n",
        "from sklearn.model_selection import train_test_split, RandomizedSearchCV, cross_val_score\n",
        "from sklearn.metrics import mean_absolute_error, mean_squared_error, r2_score\n",
        "from sklearn.neural_network import MLPRegressor"
      ],
      "metadata": {
        "id": "qvdpR_b1F_B1"
      },
      "execution_count": null,
      "outputs": []
    },
    {
      "cell_type": "code",
      "source": [
        "from tensorflow.keras import Sequential\n",
        "from tensorflow.keras.layers import Dense, Dropout\n",
        "from tensorflow.keras.optimizers import Adam\n",
        "from tensorflow.keras.utils import plot_model"
      ],
      "metadata": {
        "id": "q_roB88NlHfN"
      },
      "execution_count": null,
      "outputs": []
    },
    {
      "cell_type": "code",
      "source": [
        "import kagglehub\n",
        "path = kagglehub.dataset_download(\"avikasliwal/used-cars-price-prediction\")\n",
        "train_01 = pd.read_csv(path + \"/train-data.csv\")\n",
        "test_01 = pd.read_csv(path + \"/test-data.csv\")"
      ],
      "metadata": {
        "id": "B9VoPFx5EQ-Z"
      },
      "execution_count": null,
      "outputs": []
    },
    {
      "cell_type": "code",
      "source": [
        "train_01 = train_01.drop(['Unnamed: 0' , 'New_Price' ], axis = 1)\n",
        "test_01 = test_01.drop(['Unnamed: 0' , 'New_Price' ], axis = 1)"
      ],
      "metadata": {
        "id": "4PMkf1koH9o7"
      },
      "execution_count": null,
      "outputs": []
    },
    {
      "cell_type": "code",
      "source": [
        "print(train_01.shape)\n",
        "print(train_01.info())\n",
        "print(test_01.shape)\n",
        "print(test_01.info())"
      ],
      "metadata": {
        "id": "Pc7Wbr7MFn3O"
      },
      "execution_count": null,
      "outputs": []
    },
    {
      "cell_type": "code",
      "source": [
        "train_01.sample(5)"
      ],
      "metadata": {
        "id": "0ww2pHv2EYK4"
      },
      "execution_count": null,
      "outputs": []
    },
    {
      "cell_type": "code",
      "source": [
        "test_01.sample(5)"
      ],
      "metadata": {
        "id": "QljrDwRxFeZ2"
      },
      "execution_count": null,
      "outputs": []
    },
    {
      "cell_type": "code",
      "source": [
        "print(train_01.shape, test_01.shape)"
      ],
      "metadata": {
        "id": "km_2aOXWHv1j"
      },
      "execution_count": null,
      "outputs": []
    },
    {
      "cell_type": "code",
      "source": [
        "print(train_01.shape, test_01.shape)"
      ],
      "metadata": {
        "id": "kWG9VTLaFO8G"
      },
      "execution_count": null,
      "outputs": []
    },
    {
      "cell_type": "code",
      "source": [
        "print(train_01.isnull().sum())"
      ],
      "metadata": {
        "id": "MRxJDFnvH1Hj"
      },
      "execution_count": null,
      "outputs": []
    },
    {
      "cell_type": "code",
      "source": [
        "print(test_01.isnull().sum())"
      ],
      "metadata": {
        "id": "Q1e0fiD3H7EU"
      },
      "execution_count": null,
      "outputs": []
    },
    {
      "cell_type": "code",
      "source": [
        "train_01[\"Mileage\"] = train_01[\"Mileage\"].str.replace(\" km/kg\", \"\")\n",
        "train_01[\"Mileage\"] = train_01[\"Mileage\"].str.replace(\" kmpl\", \"\")"
      ],
      "metadata": {
        "id": "em-tYBlTH7hT"
      },
      "execution_count": null,
      "outputs": []
    },
    {
      "cell_type": "code",
      "source": [
        "train_01[\"Mileage\"] = pd.to_numeric(train_01[\"Mileage\"])"
      ],
      "metadata": {
        "id": "5PgergAlNL2b"
      },
      "execution_count": null,
      "outputs": []
    },
    {
      "cell_type": "code",
      "source": [
        "train_01['Mileage'].replace(0.0,np.nan,inplace=True)"
      ],
      "metadata": {
        "id": "Ww_WAS5EOCC0"
      },
      "execution_count": null,
      "outputs": []
    },
    {
      "cell_type": "code",
      "source": [
        "print(\"Mean of Mileage =\",np.mean(train_01['Mileage']))"
      ],
      "metadata": {
        "id": "jIHQiKZCOI5T"
      },
      "execution_count": null,
      "outputs": []
    },
    {
      "cell_type": "code",
      "source": [
        "train_01['Mileage'].fillna(value=np.mean(train_01['Mileage']),inplace=True)"
      ],
      "metadata": {
        "id": "bLzIVmnkOQWU"
      },
      "execution_count": null,
      "outputs": []
    },
    {
      "cell_type": "code",
      "source": [
        "train_01[\"Engine\"] = train_01[\"Engine\"].str.replace(\" CC\", \"\")"
      ],
      "metadata": {
        "id": "1h_LBbpbNA98"
      },
      "execution_count": null,
      "outputs": []
    },
    {
      "cell_type": "code",
      "source": [
        "train_01[\"Engine\"] = pd.to_numeric(train_01[\"Engine\"])"
      ],
      "metadata": {
        "id": "yFuZ9YmXNG_v"
      },
      "execution_count": null,
      "outputs": []
    },
    {
      "cell_type": "code",
      "source": [
        "train_01['Engine'].replace(0.0,np.nan,inplace=True)"
      ],
      "metadata": {
        "id": "K6Ts7OsyOW0c"
      },
      "execution_count": null,
      "outputs": []
    },
    {
      "cell_type": "code",
      "source": [
        "print(\"Mean of Engine =\",np.mean(train_01['Engine']))"
      ],
      "metadata": {
        "id": "JbQmg5miOYwz"
      },
      "execution_count": null,
      "outputs": []
    },
    {
      "cell_type": "code",
      "source": [
        "train_01['Engine'].fillna(value=np.mean(train_01['Engine']),inplace=True)"
      ],
      "metadata": {
        "id": "LcSfCpAmOdX9"
      },
      "execution_count": null,
      "outputs": []
    },
    {
      "cell_type": "code",
      "source": [
        "train_01[\"Power\"] = train_01[\"Power\"].str.replace(\" bhp\", \"\")"
      ],
      "metadata": {
        "id": "4gQI5G5gNruv"
      },
      "execution_count": null,
      "outputs": []
    },
    {
      "cell_type": "code",
      "source": [
        "train_01[\"Power\"] = train_01[\"Power\"].str.replace(\"null\", \"0.0\")"
      ],
      "metadata": {
        "id": "4D3EKPMCNyFe"
      },
      "execution_count": null,
      "outputs": []
    },
    {
      "cell_type": "code",
      "source": [
        "train_01[\"Power\"] = pd.to_numeric(train_01[\"Power\"])"
      ],
      "metadata": {
        "id": "pEbd4S6qNruw"
      },
      "execution_count": null,
      "outputs": []
    },
    {
      "cell_type": "code",
      "source": [
        "train_01['Power'].replace(0.0,np.nan,inplace=True)"
      ],
      "metadata": {
        "id": "RPkTJ6R7N-ru"
      },
      "execution_count": null,
      "outputs": []
    },
    {
      "cell_type": "code",
      "source": [
        "print(\"Mean of Power =\",np.mean(train_01['Power']))"
      ],
      "metadata": {
        "id": "gtyDS8IvOnDu"
      },
      "execution_count": null,
      "outputs": []
    },
    {
      "cell_type": "code",
      "source": [
        "train_01['Power'].fillna(value=np.mean(train_01['Power']),inplace=True)"
      ],
      "metadata": {
        "id": "RHO0XyjnOqdS"
      },
      "execution_count": null,
      "outputs": []
    },
    {
      "cell_type": "code",
      "source": [
        "train_01['Seats'].replace(0.0,np.nan,inplace=True)"
      ],
      "metadata": {
        "id": "XtSKyZCIOuh8"
      },
      "execution_count": null,
      "outputs": []
    },
    {
      "cell_type": "code",
      "source": [
        "print(\"Mean of Seats = \",np.mean(train_01['Seats']))"
      ],
      "metadata": {
        "id": "mW-SWMBgO4Rt"
      },
      "execution_count": null,
      "outputs": []
    },
    {
      "cell_type": "code",
      "source": [
        "train_01['Seats'].fillna(value=np.mean(train_01['Seats']),inplace=True)"
      ],
      "metadata": {
        "id": "ia8cUcENO-Zu"
      },
      "execution_count": null,
      "outputs": []
    },
    {
      "cell_type": "code",
      "source": [
        "print(train_01.isnull().sum())"
      ],
      "metadata": {
        "id": "KW0eoaGNPAVs"
      },
      "execution_count": null,
      "outputs": []
    },
    {
      "cell_type": "code",
      "source": [
        "train_01.sample(5)"
      ],
      "metadata": {
        "id": "U-6dVFUJPDKc"
      },
      "execution_count": null,
      "outputs": []
    },
    {
      "cell_type": "code",
      "source": [
        "train_01.describe()"
      ],
      "metadata": {
        "id": "EB6nVGJAPNDO"
      },
      "execution_count": null,
      "outputs": []
    },
    {
      "cell_type": "code",
      "source": [
        "train_01.info()"
      ],
      "metadata": {
        "id": "H6Nl8mAAPUCT"
      },
      "execution_count": null,
      "outputs": []
    },
    {
      "cell_type": "code",
      "source": [
        "train_02 = train_01.copy()\n",
        "train_02['Brand'] = train_02.Name.str.split().str.get(0)\n",
        "train_02.sample(5)"
      ],
      "metadata": {
        "id": "BhMhfrd2o9Qw"
      },
      "execution_count": null,
      "outputs": []
    },
    {
      "cell_type": "code",
      "source": [
        "print(train_01[\"Location\"].nunique())\n",
        "print(train_01[\"Location\"].unique())"
      ],
      "metadata": {
        "id": "DBwCW-9mSYxE"
      },
      "execution_count": null,
      "outputs": []
    },
    {
      "cell_type": "code",
      "source": [
        "fig = px.bar(train_01, x=train_01['Location'].value_counts().index,\n",
        "             y=train_01['Location'].value_counts().values,\n",
        "             title='Distribution of Locations',\n",
        "             labels={'x': 'Location', 'y': 'Count'},\n",
        "             color=train_01['Location'].value_counts().index,\n",
        "             color_discrete_sequence=px.colors.qualitative.Set3)\n",
        "\n",
        "fig.update_layout(\n",
        "    xaxis_title='Location',\n",
        "    yaxis_title='Count',\n",
        "    template='plotly_dark',\n",
        "    xaxis_tickangle=45,\n",
        "    bargap=0.1\n",
        ")\n",
        "fig.update_traces(text=train_01['Location'].value_counts().values,\n",
        "                  textposition='outside',\n",
        "                  texttemplate='%{text}')\n",
        "fig.show()"
      ],
      "metadata": {
        "id": "8woBQXAIRBM8"
      },
      "execution_count": null,
      "outputs": []
    },
    {
      "cell_type": "markdown",
      "source": [
        "**Overall Distribution:**\n",
        "\n",
        "The distribution of locations appears to be skewed to the right, with a few locations having significantly higher counts than others.\n",
        "\n",
        "\n",
        "**Top Locations:**\n",
        "\n",
        "* Mumbai has the highest count of locations, followed by Hyderabad and Kochi.\n",
        "The top 3 locations (Mumbai, Hyderabad, and Kochi) account for a significant portion of the total count.\n",
        "\n",
        "**Mid-Range Locations:**\n",
        "\n",
        "* There is a cluster of locations with counts in the 500-600 range, including Coimbatore, Pune, Delhi, and Kolkata.\n",
        "\n",
        "**Lower-End Locations:**\n",
        "\n",
        "* Chennai, Jaipur, Bangalore, and Ahmedabad have the lowest counts."
      ],
      "metadata": {
        "id": "42dqqu_Faz7a"
      }
    },
    {
      "cell_type": "code",
      "source": [
        "fig = px.pie(train_01, names=train_01['Location'].value_counts().index,\n",
        "             values=train_01['Location'].value_counts().values,\n",
        "             title='Distribution of Locations',\n",
        "             color=train_01['Location'].value_counts().index,\n",
        "             color_discrete_sequence=px.colors.qualitative.Set3,\n",
        "             template='plotly_dark',\n",
        "             hole=0.3)\n",
        "\n",
        "fig.update_traces(textinfo='percent+label', pull=[0.1 if x == 'Top Location' else 0 for x in train_01['Location'].value_counts().index])\n",
        "fig.show()\n"
      ],
      "metadata": {
        "id": "Y84MqAIHQdTM"
      },
      "execution_count": null,
      "outputs": []
    },
    {
      "cell_type": "markdown",
      "source": [
        "**Overall Distribution:**\n",
        "\n",
        "* The data is distributed across 12 categories (locations).\n",
        "There is a wide range of percentages, indicating varying levels of representation for each location.\n",
        "\n",
        "**Top Locations:**\n",
        "\n",
        "* Mumbai and Hyderabad have the highest representation, with 13.1% and 12.3%, respectively.\n",
        "The top 3 locations (Mumbai, Hyderabad, and Kochi) account for approximately 36% of the total.\n",
        "\n",
        "**Mid-Range Locations:**\n",
        "\n",
        "*Several locations fall in the mid-range, including Coimbatore, Pune, Delhi, Kolkata, Chennai, and Bangalore, with percentages ranging from 8.09% to 10.8%.\n",
        "\n",
        "**Lower-End Locations:**\n",
        "\n",
        "* Ahmedabad and Jaipur have the lowest representation, with 3.72% and 6.06%, respectively.\n",
        "\n",
        "***Potential Insights:***\n",
        "\n",
        "1. Regional Concentration: The higher percentages for Mumbai and Hyderabad might suggest a concentration of activity or interest in these regions.\n",
        "\n",
        "2. Diversity: The presence of multiple locations with similar percentages indicates a diverse distribution across different regions."
      ],
      "metadata": {
        "id": "uMB90zI1barp"
      }
    },
    {
      "cell_type": "code",
      "source": [
        "train_01[\"Year\"].unique()"
      ],
      "metadata": {
        "id": "YDKhHx08SSSE"
      },
      "execution_count": null,
      "outputs": []
    },
    {
      "cell_type": "code",
      "source": [
        "fig = px.bar(train_01, x=train_01['Year'].value_counts().index,\n",
        "             y=train_01['Year'].value_counts().values,\n",
        "             title='Distribution of Years',\n",
        "             labels={'x': 'Year', 'y': 'Count'},\n",
        "             color=train_01['Year'].value_counts().index,\n",
        "             color_discrete_sequence=px.colors.qualitative.Set1)\n",
        "\n",
        "fig.update_layout(\n",
        "    xaxis_title='Year',\n",
        "    yaxis_title='Count',\n",
        "    xaxis_tickangle=45,\n",
        "    template='plotly_dark',\n",
        "    bargap=0.1,\n",
        "    showlegend=True\n",
        ")\n",
        "\n",
        "\n",
        "fig.update_traces(text=train_01['Year'].value_counts().values,\n",
        "                  textposition='outside',\n",
        "                  texttemplate='%{text}')\n",
        "\n",
        "fig.show()\n"
      ],
      "metadata": {
        "id": "YrO88PGERX7u"
      },
      "execution_count": null,
      "outputs": []
    },
    {
      "cell_type": "markdown",
      "source": [
        "**Overall Distribution:**\n",
        "\n",
        "* The distribution of data points across the years is not uniform. There is a clear upward trend, indicating an increase in the number of observations over time.\n",
        "* The distribution appears to be skewed to the right, with a few years having significantly higher counts than others.\n",
        "\n",
        "**Top Year:**\n",
        "\n",
        "* 2015 has the highest count, followed by 2010 and 2005.\n",
        "\n",
        "**Lower-End Years:**\n",
        "\n",
        "* 2000 has the lowest count, followed by 1998 and 1995.\n",
        "\n",
        "***Potential Insights:***\n",
        "\n",
        "1. Growth Trend: The increasing trend in the number of observations suggests a growing dataset or increasing activity over time.\n",
        "\n",
        "2. Outliers: The significantly lower counts for the earlier years (1995, 1998, and 2000) could be due to various factors, such as data collection limitations or changes in the system being observed."
      ],
      "metadata": {
        "id": "LGacCuqKcAUa"
      }
    },
    {
      "cell_type": "code",
      "source": [
        "percentile_85 = train_01['Kilometers_Driven'].quantile(0.99)\n",
        "train_filtered = train_01[train_01['Kilometers_Driven'] <= percentile_85]\n",
        "fig = px.histogram(train_filtered, x='Kilometers_Driven', nbins=40,\n",
        "                   title='Distribution of Kilometers Driven',\n",
        "                   labels={'Kilometers_Driven': 'Kilometers Driven'},\n",
        "                   color_discrete_sequence=['maroon'])\n",
        "\n",
        "fig.update_layout(\n",
        "    title_text='Kilometers Driven Distribution',\n",
        "    title_x=0.5,\n",
        "    title_font_size=20,\n",
        "    xaxis_title='Kilometers Driven',\n",
        "    yaxis_title='Frequency',\n",
        "    template='plotly_dark',\n",
        "    bargap=0.2,\n",
        "    xaxis=dict(showgrid=True, zeroline=False),\n",
        "    yaxis=dict(showgrid=True, zeroline=False),\n",
        ")\n",
        "\n",
        "fig.show()"
      ],
      "metadata": {
        "id": "xDHyjwwGR_5d"
      },
      "execution_count": null,
      "outputs": []
    },
    {
      "cell_type": "markdown",
      "source": [
        "**Overall Distribution:**\n",
        "\n",
        "* The distribution of kilometers driven appears to be right-skewed. This means that there are more vehicles with lower mileage and fewer vehicles with higher mileage.\n",
        "The majority of vehicles seem to have driven between 20k and 80k kilometers.\n",
        "\n",
        "**Peak Mileage:**\n",
        "\n",
        "* The highest frequency of vehicles is observed in the range of 60k-80k kilometers.\n",
        "\n",
        "**Tailing Off:**\n",
        "\n",
        "* As the mileage increases beyond 80k kilometers, the frequency of vehicles starts to decline rapidly.\n",
        "\n",
        "***Potential Insights:***\n",
        "\n",
        "1. Vehicle Age: The right-skewed distribution might suggest that the dataset includes a mix of newer and older vehicles. Newer vehicles would generally have lower mileage.\n",
        "2. Usage Patterns: The peak frequency around 60k-80k kilometers could indicate a common usage pattern, such as vehicles being driven for a certain period before being replaced or sold."
      ],
      "metadata": {
        "id": "xnh8qQXBcgcb"
      }
    },
    {
      "cell_type": "code",
      "source": [
        "fig = px.box(train_filtered, x='Kilometers_Driven', title='Boxplot of Kilometers Driven')\n",
        "\n",
        "fig.update_layout(\n",
        "    xaxis_title='Kilometers Driven',\n",
        "    yaxis_title='Value',\n",
        "    title_x=0.5,\n",
        "    title_font=dict(size=20, family='Arial', color='darkblue'),\n",
        "    template='plotly_dark'\n",
        ")\n",
        "\n",
        "fig.show()\n"
      ],
      "metadata": {
        "id": "CgksomYLTI2t"
      },
      "execution_count": null,
      "outputs": []
    },
    {
      "cell_type": "markdown",
      "source": [
        "**Overall Distribution:**\n",
        "\n",
        "The distribution of kilometers driven appears to be right-skewed, as indicated by the long whisker on the right side of the boxplot. This means that there are more vehicles with lower mileage and fewer vehicles with higher mileage.\n",
        "\n",
        "**Central Tendency:**\n",
        "\n",
        "The median (the line within the box) appears to be around 60,000 kilometers. This suggests that half of the vehicles have driven less than 60,000 kilometers, and half have driven more.\n",
        "The box itself represents the interquartile range (IQR), which is the range of the middle 50% of the data. In this case, the IQR seems to be between approximately 40,000 and 70,000 kilometers.\n",
        "\n",
        "**Outliers:**\n",
        "\n",
        "The dots on the right side of the plot represent outliers, which are data points that fall significantly outside the range of the majority of the data. In this case, there are several outliers with high mileage, further emphasizing the right-skewed nature of the distribution.\n",
        "\n",
        "***Potential Insights:***\n",
        "\n",
        "1. Vehicle Age: The right-skewed distribution and presence of outliers with high mileage might suggest that the dataset includes a mix of newer and older vehicles. Newer vehicles would generally have lower mileage.\n",
        "2. Usage Patterns: The median and IQR give us an idea of the typical range of mileage for most vehicles in the dataset. The outliers with high mileage might represent vehicles that are used extensively or for specific purposes."
      ],
      "metadata": {
        "id": "UFJ4GscJc3cn"
      }
    },
    {
      "cell_type": "code",
      "source": [
        "fuel_counts = train_01['Fuel_Type'].value_counts().reset_index()\n",
        "fuel_counts.columns = ['Fuel_Type', 'Count']\n",
        "\n",
        "fig = px.bar(fuel_counts,\n",
        "             x='Count',\n",
        "             y='Fuel_Type',\n",
        "             orientation='h',\n",
        "             title='Fuel Type Distribution',\n",
        "             labels={'Fuel_Type': 'Fuel Type', 'Count': 'Number of Vehicles'},\n",
        "             color='Fuel_Type',\n",
        "             color_continuous_scale='Viridis',\n",
        "             template='plotly_dark'\n",
        "            )\n",
        "\n",
        "fig.update_layout(\n",
        "    xaxis_title=\"Number of Vehicles\",\n",
        "    yaxis_title=\"Fuel Type\",\n",
        "    title_x=0.5,\n",
        "    title_font=dict(size=20, family='Arial', color='white'),\n",
        "    paper_bgcolor='rgb(17,17,17)',\n",
        "    plot_bgcolor='rgb(17,17,17)',\n",
        "    font=dict(color='white')  )\n",
        "\n",
        "fig.show()\n"
      ],
      "metadata": {
        "id": "lSjvKG1RUg5N"
      },
      "execution_count": null,
      "outputs": []
    },
    {
      "cell_type": "markdown",
      "source": [
        "**Overall Distribution:**\n",
        "\n",
        "* The distribution of vehicles across different fuel types is heavily skewed towards diesel and petrol, with a significantly lower number of vehicles using CNG, LPG, and electric fuel types.\n",
        "\n",
        "**Dominant Fuel Types:**\n",
        "\n",
        "* Diesel and petrol are the most common fuel types, with diesel having a slightly higher number of vehicles than petrol.\n",
        "\n",
        "**Less Common Fuel Types:**\n",
        "\n",
        "* CNG, LPG, and electric vehicles have a significantly lower number of vehicles compared to diesel and petrol."
      ],
      "metadata": {
        "id": "AIqNrEhWdTZ6"
      }
    },
    {
      "cell_type": "code",
      "source": [
        "owner_counts = train_01['Owner_Type'].value_counts().reset_index()\n",
        "owner_counts.columns = ['Owner_Type', 'Count']\n",
        "fig = px.pie(owner_counts, names='Owner_Type',\n",
        "             values='Count',\n",
        "             title='Distribution of Owner Types',\n",
        "             color='Owner_Type',\n",
        "             color_discrete_sequence=px.colors.qualitative.Set3,\n",
        "             template='plotly_dark',\n",
        "             hole=0.3)\n",
        "\n",
        "fig.update_traces(textinfo='percent+label', pull=[0.1 if x == 'Top Location' else 0 for x in train_01['Location'].value_counts().index])\n",
        "fig.show()\n"
      ],
      "metadata": {
        "id": "SeM0V6-wjGNy"
      },
      "execution_count": null,
      "outputs": []
    },
    {
      "cell_type": "markdown",
      "source": [
        "**Overall Distribution:**\n",
        "\n",
        "* The distribution of owner types is heavily skewed towards the \"First\" owner category, with a significantly lower number of vehicles in the other categories.\n",
        "Dominant Owner Type:\n",
        "\n",
        "* \"First\" owners represent the vast majority of vehicles, accounting for approximately 81.9% of the total.\n",
        "\n",
        "**Less Common Owner Types:**\n",
        "\n",
        "* \"Second\" owners make up the next largest group, with 16.1% of the vehicles.\n",
        "\"Third\" and \"Fourth & Above\" owners are relatively rare, with 1.88% and 0.15%, respectively.\n",
        "\n",
        "***Potential Insights:***\n",
        "\n",
        "1. Market Dynamics: The dominance of \"First\" owners suggests that a large portion of vehicles are likely new purchases or owned by individuals who have kept their vehicles for a significant period.\n",
        "2. Resale Market: The smaller percentages of \"Second,\" \"Third,\" and \"Fourth & Above\" owners might indicate a relatively active resale market, with vehicles changing hands multiple times."
      ],
      "metadata": {
        "id": "JXt2mPsydtv7"
      }
    },
    {
      "cell_type": "code",
      "source": [
        "fig = px.histogram(train_01, x='Mileage', nbins=40,\n",
        "                   title='Distribution of Mileage',\n",
        "                   labels={'Mileage': 'Mileage'},\n",
        "                   color_discrete_sequence=['maroon'])\n",
        "\n",
        "fig.update_layout(\n",
        "    title_text='Mileage Distribution',\n",
        "    title_x=0.5,\n",
        "    title_font_size=20,\n",
        "    xaxis_title='Mileage',\n",
        "    yaxis_title='Frequency',\n",
        "    template='plotly_dark',\n",
        "    bargap=0.2,\n",
        "    xaxis=dict(showgrid=True, zeroline=False),\n",
        "    yaxis=dict(showgrid=True, zeroline=False),\n",
        ")\n",
        "\n",
        "fig.show()"
      ],
      "metadata": {
        "id": "O7TPQiabj8zP"
      },
      "execution_count": null,
      "outputs": []
    },
    {
      "cell_type": "markdown",
      "source": [
        "**Overall Distribution:**\n",
        "\n",
        "* The distribution of mileage appears to be roughly bell-shaped or normal, with a central peak and tapering tails on both sides. This indicates that the majority of vehicles have a mileage within a certain range, with fewer vehicles having significantly lower or higher mileage.\n",
        "\n",
        "**Central Tendency:**\n",
        "\n",
        "* The peak of the distribution appears to be around 20, suggesting that this is the most common mileage range for vehicles in this dataset.\n",
        "\n",
        "**Spread:**\n",
        "\n",
        "* The distribution seems to be relatively narrow, with most of the data concentrated around the peak. This indicates that the vehicles in this dataset have a fairly consistent mileage range."
      ],
      "metadata": {
        "id": "ExylF8dse63S"
      }
    },
    {
      "cell_type": "code",
      "source": [
        "fig = px.box(train_01, x='Mileage', title='Boxplot of Mileage')\n",
        "\n",
        "fig.update_layout(\n",
        "    xaxis_title='Mileage',\n",
        "    yaxis_title='Value',\n",
        "    title_x=0.5,\n",
        "    title_font=dict(size=20, family='Arial', color='darkblue'),\n",
        "    template='plotly_dark'\n",
        ")\n",
        "\n",
        "fig.show()\n"
      ],
      "metadata": {
        "id": "mVLAIuquj8zP"
      },
      "execution_count": null,
      "outputs": []
    },
    {
      "cell_type": "markdown",
      "source": [
        "**Overall Distribution:**\n",
        "\n",
        "* The distribution of mileage appears to be slightly right-skewed, as indicated by the longer whisker on the right side of the boxplot. This means that there are more vehicles with lower mileage and fewer vehicles with higher mileage.\n",
        "\n",
        "**Central Tendency:**\n",
        "\n",
        "* The median (the line within the box) appears to be around 17-18. This suggests that half of the vehicles have a mileage of less than 17-18, and half have a higher mileage.\n",
        "* The box itself represents the interquartile range (IQR), which is the range of the middle 50% of the data. In this case, the IQR seems to be between approximately 15 and 20.\n",
        "\n",
        "**Outliers:**\n",
        "\n",
        "* The dots on the right side of the plot represent outliers, which are data points that fall significantly outside the range of the majority of the data. In this case, there are a few outliers with higher mileage, further emphasizing the right-skewed nature of the distribution."
      ],
      "metadata": {
        "id": "YdiS_NYmfcU5"
      }
    },
    {
      "cell_type": "code",
      "source": [
        "fig = px.histogram(train_01, x='Engine', nbins=40,\n",
        "                   title='Distribution of Engine Sizes',\n",
        "                   labels={'Mileage': 'Engine Sizes'},\n",
        "                   color_discrete_sequence=['LightBlue'])\n",
        "\n",
        "fig.update_layout(\n",
        "    title_text='Engine Sizes Distribution',\n",
        "    title_x=0.5,\n",
        "    title_font_size=20,\n",
        "    xaxis_title='Engine Sizes',\n",
        "    yaxis_title='Frequency',\n",
        "    template='plotly_dark',\n",
        "    bargap=0.2,\n",
        "    xaxis=dict(showgrid=True, zeroline=False),\n",
        "    yaxis=dict(showgrid=True, zeroline=False),\n",
        ")\n",
        "\n",
        "fig.show()"
      ],
      "metadata": {
        "id": "TdWlhKcPkmNh"
      },
      "execution_count": null,
      "outputs": []
    },
    {
      "cell_type": "markdown",
      "source": [
        "**Overall Distribution:**\n",
        "\n",
        "* The distribution of engine sizes appears to be right-skewed, with a long tail towards higher engine sizes. This means that there are more vehicles with smaller engines and fewer vehicles with larger engines.\n",
        "* The distribution has multiple peaks, suggesting that there might be clusters of vehicles with specific engine sizes.\n",
        "\n",
        "**Central Tendency:**\n",
        "\n",
        "* The majority of vehicles seem to have engine sizes in the range of 1000-2000 cc. This is where the highest frequency is observed.\n",
        "\n",
        "**Spread:**\n",
        "\n",
        "* The distribution is relatively wide, indicating that there is a significant variation in engine sizes across the vehicles."
      ],
      "metadata": {
        "id": "r58CL4-gfzLc"
      }
    },
    {
      "cell_type": "code",
      "source": [
        "fig = px.histogram(train_01, x='Power', nbins=40,\n",
        "                   title='Distribution of Power ',\n",
        "                   labels={'Power': 'Power '},\n",
        "                   color_discrete_sequence=['Lightgreen'])\n",
        "\n",
        "fig.update_layout(\n",
        "    title_text='Power Distribution',\n",
        "    title_x=0.5,\n",
        "    title_font_size=20,\n",
        "    xaxis_title='Power',\n",
        "    yaxis_title='Frequency',\n",
        "    template='plotly_dark',\n",
        "    bargap=0.2,\n",
        "    xaxis=dict(showgrid=True, zeroline=False),\n",
        "    yaxis=dict(showgrid=True, zeroline=False),\n",
        ")\n",
        "\n",
        "fig.show()"
      ],
      "metadata": {
        "id": "xDMxvFSknSER"
      },
      "execution_count": null,
      "outputs": []
    },
    {
      "cell_type": "code",
      "source": [
        "fig = px.histogram(train_01, x='Seats', nbins=40,\n",
        "                   title='Distribution of Seats ',\n",
        "                   labels={'Seats': 'Seats Coynts '},\n",
        "                   color_discrete_sequence=['Lightgreen'])\n",
        "\n",
        "fig.update_layout(\n",
        "    title_text='Seats Distribution',\n",
        "    title_x=0.5,\n",
        "    title_font_size=20,\n",
        "    xaxis_title='Seats',\n",
        "    yaxis_title='Frequency',\n",
        "    template='plotly_dark',\n",
        "    bargap=0.2,\n",
        "    xaxis=dict(showgrid=True, zeroline=False),\n",
        "    yaxis=dict(showgrid=True, zeroline=False),\n",
        ")\n",
        "\n",
        "fig.show()"
      ],
      "metadata": {
        "id": "Hzl38fKroDrV"
      },
      "execution_count": null,
      "outputs": []
    },
    {
      "cell_type": "markdown",
      "source": [
        "**Overall Distribution:**\n",
        "\n",
        "* The distribution of power seems to be right-skewed, with a long tail towards higher power values. This means that there are more devices with lower power consumption and fewer devices with higher power consumption.\n",
        "* The distribution has multiple peaks, suggesting that there might be clusters of devices with specific power consumption ranges.\n",
        "\n",
        "**Central Tendency:**\n",
        "\n",
        "* The majority of devices seem to have power consumption in the range of 50-100 watts. This is where the highest frequency is observed.\n",
        "\n",
        "**Spread:**\n",
        "\n",
        "* The distribution is relatively wide, indicating that there is a significant variation in power consumption across the devices."
      ],
      "metadata": {
        "id": "JD-rOV3BgDZT"
      }
    },
    {
      "cell_type": "code",
      "source": [
        "fig = px.box(train_01, x='Price', title='Boxplot of Car Prices')\n",
        "\n",
        "fig.update_layout(\n",
        "    xaxis_title='Price',\n",
        "    yaxis_title='Value',\n",
        "    title_x=0.5,\n",
        "    title_font=dict(size=20, family='Arial', color='darkblue'),\n",
        "    template='plotly_dark'\n",
        ")\n",
        "\n",
        "fig.show()\n"
      ],
      "metadata": {
        "id": "bRRpbpsRpQDF"
      },
      "execution_count": null,
      "outputs": []
    },
    {
      "cell_type": "markdown",
      "source": [
        "**Overall Distribution:**\n",
        "\n",
        "* The distribution of prices appears to be heavily right-skewed, as indicated by the long whisker on the right side of the boxplot. This means that there are many products with lower prices and fewer products with very high prices.\n",
        "\n",
        "**Central Tendency:**\n",
        "\n",
        "* The median (the line within the box) appears to be around 15. This suggests that half of the products have a price of less than 15, and half have a higher price.\n",
        "* The box itself represents the interquartile range (IQR), which is the range of the middle 50% of the data. In this case, the IQR seems to be quite narrow, indicating that the majority of products are priced within a relatively small range.\n",
        "\n",
        "**Outliers:**\n",
        "\n",
        "* The dots on the right side of the plot represent outliers, which are data points that fall significantly outside the range of the majority of the data.\n",
        "* In this case, there are several outliers with very high prices, further emphasizing the right-skewed nature of the distribution."
      ],
      "metadata": {
        "id": "fnRQxwVfgWir"
      }
    },
    {
      "cell_type": "code",
      "source": [
        "fig = px.violin(train_01,\n",
        "                x='Price',\n",
        "                box=True,\n",
        "                points='all',\n",
        "                title='Violin Plot of Car Prices')\n",
        "\n",
        "fig.update_layout(\n",
        "    title_x=0.5,\n",
        "    title_font=dict(size=20, family='Arial', color='white'),\n",
        "    yaxis_title=\"Price\",\n",
        "    paper_bgcolor='rgb(0, 0, 0)',\n",
        "    plot_bgcolor='rgb(0, 0, 0)',\n",
        "    font=dict(color='white')\n",
        ")\n",
        "\n",
        "fig.show()\n"
      ],
      "metadata": {
        "id": "PoGs2QGYoiE-"
      },
      "execution_count": null,
      "outputs": []
    },
    {
      "cell_type": "markdown",
      "source": [
        "**Overall Distribution:**\n",
        "\n",
        "* The distribution of car prices is highly right-skewed, with a long tail towards higher prices. This indicates that most cars are priced relatively low, while a few high-end cars significantly increase the overall price range.\n",
        "* The violin plot's shape suggests that the distribution might be multimodal, with potential clusters of prices at different levels.\n",
        "\n",
        "**Central Tendency:**\n",
        "\n",
        "* The median price, represented by the horizontal line within the box plot, appears to be around 15. This means that half of the cars are priced below 15, and half are priced higher.\n",
        "* The box plot also shows the interquartile range (IQR), which is the range of the middle 50% of the data. In this case, the IQR seems to be quite narrow, indicating that the majority of cars are priced within a relatively small range.\n",
        "\n",
        "**Outliers:**\n",
        "\n",
        "* The numerous dots scattered along the x-axis represent individual data points that are considered outliers. These outliers are primarily located in the higher price range, further emphasizing the right-skewed nature of the distribution."
      ],
      "metadata": {
        "id": "aNaAex84gqXT"
      }
    },
    {
      "cell_type": "code",
      "source": [
        "avg_price_by_year = train_01.groupby('Year')['Price'].mean().reset_index()\n",
        "\n",
        "fig = px.line(\n",
        "    avg_price_by_year,\n",
        "    x='Year',\n",
        "    y='Price',\n",
        "    title='Average Car Price by Year',\n",
        "    labels={'Year': 'Car Year', 'Price': 'Average Price (in $)'},\n",
        "    line_shape='linear' ,\n",
        "    template='plotly_dark'\n",
        ")\n",
        "\n",
        "fig.show()"
      ],
      "metadata": {
        "id": "PIdWyU3ispeq"
      },
      "execution_count": null,
      "outputs": []
    },
    {
      "cell_type": "markdown",
      "source": [
        "**Overall Trend:**\n",
        "\n",
        "* The average car price has shown an overall increasing trend from 2000 to 2020. This indicates that the cost of cars has generally risen over this period.\n",
        "\n",
        "**Specific Trends:**\n",
        "\n",
        "* There are periods of more rapid price increases, such as between 2010 and 2015, and periods of slower growth, like between 2000 and 2005.\n",
        "* There are also some fluctuations and temporary decreases in the average price, suggesting that factors like economic conditions or market trends can influence car prices.\n",
        "\n",
        "***Potential Insights:***\n",
        "\n",
        "1. Inflation and Economic Factors: The overall upward trend might be influenced by factors like inflation, economic growth, and increased consumer demand for cars.\n",
        "2.  Technological Advancements: New technologies, features, and stricter safety regulations can increase the cost of manufacturing and thus the final price of cars.\n",
        "3. Market Dynamics: Fluctuations in the market, such as changes in fuel prices, interest rates, or consumer preferences, can impact the average car price."
      ],
      "metadata": {
        "id": "PGC89bsThFU6"
      }
    },
    {
      "cell_type": "code",
      "source": [
        "\n",
        "fig = px.scatter_3d(\n",
        "    train_01,\n",
        "    x='Kilometers_Driven',\n",
        "    y='Mileage',\n",
        "    z='Price',\n",
        "    color='Price',\n",
        "    template=\"plotly_dark\",\n",
        "    title=\"3D Scatter Plot: Kilometers, Mileage vs Price\",\n",
        "    labels={'Kilometers_Driven': 'Kilometers Driven', 'Mileage': 'Mileage', 'Price': 'Price (in $)'}\n",
        ")\n",
        "\n",
        "fig.show()\n"
      ],
      "metadata": {
        "id": "0CsgsFoXqV4C"
      },
      "execution_count": null,
      "outputs": []
    },
    {
      "cell_type": "markdown",
      "source": [
        "**Overall Relationship:**\n",
        "\n",
        "* There appears to be a weak negative correlation between Kilometers Driven and Price. This means that, generally, as the kilometers driven increase, the price tends to decrease. However, the relationship is not very strong, as there is significant scatter in the data points.\n",
        "\n",
        "**Clusters and Outliers:**\n",
        "\n",
        "* The plot shows clusters of points, indicating groups of cars with similar price and mileage combinations.\n",
        "* There are also some outliers, which are points that deviate significantly from the general trend. These outliers might represent unique or rare cars with high prices and low mileage, or vice versa.\n",
        "\n",
        "**Impact of Power:**\n",
        "\n",
        "* The color of the bubbles represents the power of the car. It seems that cars with higher power tend to be more expensive, regardless of the mileage. However, there is still significant overlap between different power levels and prices."
      ],
      "metadata": {
        "id": "YKtvDYaCiGIL"
      }
    },
    {
      "cell_type": "code",
      "source": [
        "fig = px.scatter(\n",
        "    train_01,\n",
        "    x='Kilometers_Driven',\n",
        "    y='Price',\n",
        "    size='Power',\n",
        "    color='Power',\n",
        "    template=\"plotly_dark\",\n",
        "    title=\"Kilometers Driven vs Price (Bubble Plot)\",\n",
        "    labels={'Kilometers_Driven': 'Kilometers Driven', 'Price': 'Price (in $)', 'Power': 'Power'}\n",
        ")\n",
        "\n",
        "fig.show()"
      ],
      "metadata": {
        "id": "KpLykOfxtRwi"
      },
      "execution_count": null,
      "outputs": []
    },
    {
      "cell_type": "code",
      "source": [
        "columns_to_plot = ['Mileage', 'Power', 'Kilometers_Driven', 'Engine']\n",
        "for column in columns_to_plot:\n",
        "    fig = px.scatter(train_01, x=column, y='Price', trendline='ols',\n",
        "                     title=f\"{column} vs Price\",\n",
        "                     template=\"plotly_dark\",\n",
        "                     labels={column: f\"{column}\", 'Price': 'Price (in INR)'})\n",
        "\n",
        "    fig.show()\n"
      ],
      "metadata": {
        "id": "-aM9FDEGudlE"
      },
      "execution_count": null,
      "outputs": []
    },
    {
      "cell_type": "markdown",
      "source": [
        "**Mileage and Price:**\n",
        "* A weak negative correlation exists, meaning as mileage increases, price tends to decrease. However, the relationship is not strong due to significant scatter and outliers.\n",
        "\n",
        "**Power and Price:**\n",
        "* A weak positive correlation shows that cars with higher power tend to have higher prices, but the relationship is weak, with significant variability.\n",
        "\n",
        "**Kilometers Driven and Price:**\n",
        "* There is a weak negative correlation, where higher kilometers driven generally results in lower prices, though the trend is not strong due to scattered data.\n",
        "\n",
        "**Engine Size and Price:**\n",
        "* A weak positive correlation indicates that larger engines tend to have higher prices, but the relationship is weak, with considerable scatter."
      ],
      "metadata": {
        "id": "kcg3tbPMjN2W"
      }
    },
    {
      "cell_type": "markdown",
      "source": [
        "## MulitVarite Analysis"
      ],
      "metadata": {
        "id": "Bb37dn16YFia"
      }
    },
    {
      "cell_type": "code",
      "source": [
        "\n",
        "fig = px.scatter_3d(\n",
        "    train_01,\n",
        "    x='Kilometers_Driven',\n",
        "    y='Mileage',\n",
        "    z='Price',\n",
        "    color='Price',\n",
        "    template=\"plotly_dark\",\n",
        "    title=\"3D Scatter Plot: Kilometers, Mileage vs Price\",\n",
        "    labels={'Kilometers_Driven': 'Kilometers Driven', 'Mileage': 'Mileage', 'Price': 'Price (in $)'}\n",
        ")\n",
        "\n",
        "fig.show()\n"
      ],
      "metadata": {
        "id": "TAgqtczCe-Mv"
      },
      "execution_count": null,
      "outputs": []
    },
    {
      "cell_type": "markdown",
      "source": [
        "**Overall Relationship:**\n",
        "\n",
        "* The 3D plot reinforces the weak negative correlation between kilometers driven and price. However, it shows that price is also influenced by other factors, notably power.\n",
        "\n",
        "**Clusters and Outliers:**\n",
        "\n",
        "* Clusters of cars with similar price, mileage, and power combinations are visible.\n",
        "* Outliers are present, representing cars with unusual combinations, such as low mileage but high prices or vice versa.\n",
        "\n",
        "**Impact of Power:**\n",
        "\n",
        "* Power is indicated by the color of the bubbles, and cars with higher power tend to have higher prices, regardless of their mileage or kilometers driven. However, there is still significant overlap, suggesting that power alone is not a strong predictor of price."
      ],
      "metadata": {
        "id": "ntuXhIn4jmUb"
      }
    },
    {
      "cell_type": "code",
      "source": [
        "fig_sunburst = px.sunburst(train_02, path=['Fuel_Type', 'Brand'], values='Mileage',\n",
        "                           title=\"Fuel Type vs Brand Distribution of Mileage\",\n",
        "                           labels={'Fuel_Type': 'Fuel Type', 'Brand': 'Brand', 'Mileage': 'Mileage (km/l)'},\n",
        "                           template='plotly_dark')\n",
        "\n",
        "fig_sunburst.show()\n"
      ],
      "metadata": {
        "id": "9MDjyfCfudeX"
      },
      "execution_count": null,
      "outputs": []
    },
    {
      "cell_type": "markdown",
      "source": [
        "**Overall Distribution:**\n",
        "\n",
        "* The distribution of car brands is dominated by petrol and diesel fuel types.\n",
        "* There is a significant difference in the number of cars using petrol and diesel fuel types.\n",
        "* The number of cars using other fuel types (electric, CNG, LPG) is negligible.\n",
        "\n",
        "**Brand-wise Distribution:**\n",
        "\n",
        "* Petrol: Maruti, Hyundai, and Honda appear to be the most popular brands for petrol cars.\n",
        "* Diesel: Mahindra, Ford, and Toyota seem to be the most popular brands for diesel cars.\n",
        "\n",
        "***Potential Insights:***\n",
        "\n",
        "1. Market Dominance: Maruti and Hyundai appear to have a significant market share in the petrol car segment."
      ],
      "metadata": {
        "id": "2-vWDuD0nXWs"
      }
    },
    {
      "cell_type": "code",
      "source": [
        "fig = px.box(train_01, x='Transmission', y='Mileage',\n",
        "             title=\"Transmission vs Mileage\",\n",
        "             labels={'Transmission': 'Transmission Type', 'Mileage': 'Mileage (km/l)'},\n",
        "             template='plotly_dark')\n",
        "\n",
        "fig.update_layout(\n",
        "    xaxis_title=\"Transmission Type\",\n",
        "    yaxis_title=\"Mileage (km/l)\",\n",
        "    title_x=0.5,\n",
        "    title_font=dict(size=30),\n",
        "    xaxis=dict(tickmode='array', tickvals=[0, 1], ticktext=['Manual', 'Automatic'])\n",
        ")\n",
        "\n",
        "fig.show()\n"
      ],
      "metadata": {
        "id": "jNlpvPm5zxFA"
      },
      "execution_count": null,
      "outputs": []
    },
    {
      "cell_type": "markdown",
      "source": [
        "**Overall Mileage:**\n",
        "\n",
        "* Manual Transmission: The majority of cars with manual transmission have a mileage between 17 and 22 km/l. The median mileage for manual transmission cars is around 20 km/l.\n",
        "* Automatic Transmission: The majority of cars with automatic transmission have a mileage between 15 and 19 km/l. The median mileage for automatic transmission cars is around 17 km/l.\n",
        "\n",
        "**Variability:**\n",
        "\n",
        "* Manual Transmission: The spread of mileage values for manual transmission cars is wider, with a range of approximately 15 to 32 km/l.\n",
        "* Automatic Transmission: The spread of mileage values for automatic transmission cars is narrower, with a range of approximately 10 to 27 km/l.\n",
        "\n",
        "**Outliers:**\n",
        "\n",
        "* Manual Transmission: There is one outlier on the higher end of the mileage range for manual transmission cars.\n",
        "* Automatic Transmission: There are two outliers on the higher end of the mileage range for automatic transmission cars.\n",
        "\n",
        "**Comparison:**\n",
        "\n",
        "* Median Mileage: Manual transmission cars generally have a higher median mileage compared to automatic transmission cars.\n",
        "* Variability: Manual transmission cars exhibit higher variability in mileage compared to automatic transmission cars."
      ],
      "metadata": {
        "id": "EjXAVTWwaPYT"
      }
    },
    {
      "cell_type": "code",
      "source": [
        "\n",
        "fig = px.bar(train_02.groupby('Brand')['Power'].mean().reset_index(),\n",
        "             x='Brand', y='Power',\n",
        "             title=\"Brand vs Power\",\n",
        "             labels={'Brand': 'Brand', 'Power': 'Average Power (HP)'},\n",
        "             color='Brand',\n",
        "             template='plotly_dark')\n",
        "\n",
        "fig.update_layout(\n",
        "    xaxis_title=\"Brand\",\n",
        "    yaxis_title=\"Average Power (HP)\",\n",
        "    title_x=0.5,\n",
        "    title_font=dict(size=30),\n",
        "    xaxis_tickangle=-45,\n",
        ")\n",
        "\n",
        "fig.show()"
      ],
      "metadata": {
        "id": "e2FJDe4w0DPv"
      },
      "execution_count": null,
      "outputs": []
    },
    {
      "cell_type": "markdown",
      "source": [
        "**Overall Power:**\n",
        "\n",
        "* The majority of car brands have an average power output between 100 and 200 HP.There are a few brands with average power output exceeding 300 HP.\n",
        "\n",
        "**Variability:**\n",
        "\n",
        "* There is a significant variation in average power across different car brands.\n",
        "Some brands have a much higher average power output compared to others.\n",
        "\n",
        "**Comparison:**\n",
        "\n",
        "* Brands with the highest average power output include Lamborghini, Mahindra, and Maruti.\n",
        "* Brands with the lowest average power output include Ambassador, Audi, and BMW."
      ],
      "metadata": {
        "id": "dbWzu23Caxch"
      }
    },
    {
      "cell_type": "code",
      "source": [
        "fig = px.histogram(\n",
        "    train_01,\n",
        "    x='Price',\n",
        "    facet_col='Location',\n",
        "    facet_row='Transmission',\n",
        "    color='Fuel_Type',\n",
        "    nbins=50,\n",
        "    title=\"Car Price Distribution by Location, Transmission, and Fuel Type\",\n",
        "    template=\"plotly_dark\",\n",
        "    labels={\n",
        "        'Price': 'Car Price (in $)',\n",
        "        'Location': 'Car Location',\n",
        "        'Transmission': 'Transmission Type',\n",
        "        'Fuel_Type': 'Fuel Type',\n",
        "        'Seats': 'Number of Seats',\n",
        "        'Owner_Type': 'Owner Type',\n",
        "        'Brand': 'Car Brand'\n",
        "    }\n",
        ")\n",
        "\n",
        "fig.update_layout(\n",
        "    title={'x': 0.5, 'xanchor': 'center'},\n",
        "    margin=dict(t=50, b=50, l=50, r=50),\n",
        "    showlegend=True,\n",
        "    legend_title=\"Fuel Type\",\n",
        ")\n",
        "\n",
        "fig.show()"
      ],
      "metadata": {
        "id": "WkPhrgO8qch4"
      },
      "execution_count": null,
      "outputs": []
    },
    {
      "cell_type": "markdown",
      "source": [
        "**Overall Price Distribution:**\n",
        "\n",
        "* The majority of car prices fall within the range of $0 to $100.\n",
        "There are some car prices that exceed $150.\n",
        "\n",
        "**Variability:**\n",
        "\n",
        "* There is a significant variation in car prices across different locations, transmission types, and fuel types.\n",
        "Some locations, transmission types, and fuel types have a higher number of cars with higher prices compared to others.\n",
        "\n",
        "**Comparison:**\n",
        "\n",
        "* Locations: Mumbai and Delhi have the highest number of cars with prices exceeding 150.\n",
        "* Transmission Type: Manual transmission cars have a higher number of cars with prices exceeding Rs150 compared to automatic transmission cars.\n",
        "* Fuel Type: CNG and Petrol cars have a higher number of cars with prices exceeding $150 compared to Diesel, LPG, and Electric cars."
      ],
      "metadata": {
        "id": "LnvKbzkdbG3B"
      }
    },
    {
      "cell_type": "code",
      "source": [
        "fig = px.parallel_categories(\n",
        "    train_02,\n",
        "    dimensions=['Location', 'Transmission', 'Fuel_Type', 'Seats', 'Owner_Type', 'Brand'],\n",
        "    color='Price',\n",
        "    color_continuous_scale='Viridis',\n",
        "    title=\"Car Price Analysis Based on Features\",\n",
        "    template=\"plotly_dark\",\n",
        "    labels={\n",
        "        'Location': 'Car Location',\n",
        "        'Transmission': 'Transmission Type',\n",
        "        'Fuel_Type': 'Fuel Type',\n",
        "        'Seats': 'Number of Seats',\n",
        "        'Owner_Type': 'Owner Type',\n",
        "        'Brand': 'Car Brand',\n",
        "        'Price': 'Price (in ₹)'\n",
        "    }\n",
        ")\n",
        "\n",
        "fig.update_traces(\n",
        "    hovertemplate=\"%{dimension}: %{label}<br>Price: %{color:.2f}<extra></extra>\"  # Format hover data\n",
        ")\n",
        "\n",
        "fig.update_layout(\n",
        "    title={'x': 0.5, 'xanchor': 'center'},\n",
        "    margin=dict(t=50, b=50, l=50, r=50),\n",
        ")\n",
        "\n",
        "fig.show()"
      ],
      "metadata": {
        "id": "INrzPLLDpyOz"
      },
      "execution_count": null,
      "outputs": []
    },
    {
      "cell_type": "markdown",
      "source": [
        "**Price Distribution:**\n",
        "\n",
        "* The majority of car prices appear to fall within the range of 20 to 100.\n",
        "* There are some car prices that exceed 140, with a few outliers reaching even higher price points.\n",
        "\n",
        "**Variability:**\n",
        "\n",
        "* There is a significant variation in car prices across different car brands.\n",
        "* Some brands, such as Hyundai and Honda, have a higher number of cars with higher prices compared to others like Lamborghini and Ferrari.\n",
        "\n",
        "**Feature Influence:**\n",
        "\n",
        "* The chord diagram suggests that certain features might be associated with higher car prices. For example, cars from Mumbai or Delhi, with automatic transmission, petrol or CNG fuel, and a higher number of seats, seem to have a higher proportion of cars with higher prices.\n",
        "* However, without more specific data and statistical analysis, it's difficult to quantify the exact impact of each feature on price."
      ],
      "metadata": {
        "id": "9e2vC-TubxFZ"
      }
    },
    {
      "cell_type": "code",
      "source": [
        "train_01['Brand'] = train_01.Name.str.split().str.get(0)\n",
        "test_01['Brand'] = test_01.Name.str.split().str.get(0)"
      ],
      "metadata": {
        "id": "yGsVrMwsGHsR"
      },
      "execution_count": null,
      "outputs": []
    },
    {
      "cell_type": "code",
      "source": [
        "train_01.drop(columns=['Name'], axis=1, inplace=True)\n",
        "test_01.drop(columns=['Name'], axis=1, inplace=True)"
      ],
      "metadata": {
        "id": "VSFNJfsfHDen"
      },
      "execution_count": null,
      "outputs": []
    },
    {
      "cell_type": "code",
      "source": [
        "scaler = StandardScaler()\n",
        "numeric_columns = test_01.select_dtypes(include=['number']).columns\n",
        "\n",
        "train_01[numeric_columns] = scaler.fit_transform(train_01[numeric_columns])\n",
        "test_01[numeric_columns] = scaler.fit_transform(test_01[numeric_columns])"
      ],
      "metadata": {
        "id": "cI5kHqMG5xPo"
      },
      "execution_count": null,
      "outputs": []
    },
    {
      "cell_type": "code",
      "source": [
        "label_encoder = LabelEncoder()\n",
        "\n",
        "cat_columns = test_01.select_dtypes(exclude=['number']).columns\n",
        "\n",
        "for column in cat_columns:\n",
        "    train_01[column] = label_encoder.fit_transform(train_01[column])\n",
        "    test_01[column] = label_encoder.fit_transform(test_01[column])"
      ],
      "metadata": {
        "id": "gugQ0-8Y695g"
      },
      "execution_count": null,
      "outputs": []
    },
    {
      "cell_type": "code",
      "source": [
        "X = train_01.drop(columns = [\"Price\"])\n",
        "Y = train_01[\"Price\"]"
      ],
      "metadata": {
        "id": "PZ9kItRP38un"
      },
      "execution_count": null,
      "outputs": []
    },
    {
      "cell_type": "code",
      "source": [
        "X_train, X_test, Y_train, Y_test = train_test_split(X, Y, test_size=0.2, random_state=42)"
      ],
      "metadata": {
        "id": "Gfr6RBTQ7-Ub"
      },
      "execution_count": null,
      "outputs": []
    },
    {
      "cell_type": "code",
      "source": [
        "model = Sequential()"
      ],
      "metadata": {
        "id": "sektK67KkVQ-"
      },
      "execution_count": null,
      "outputs": []
    },
    {
      "cell_type": "code",
      "source": [
        "model.add(Dense(512, activation='relu', input_dim=X_train.shape[1]))\n",
        "model.add(Dropout(0.2))  # Dropout layer for regularization"
      ],
      "metadata": {
        "id": "FA-ZpQ-UkXna"
      },
      "execution_count": null,
      "outputs": []
    },
    {
      "cell_type": "code",
      "source": [
        "model.add(Dense(256, activation='relu'))\n",
        "model.add(Dropout(0.2))  # Dropout for regularization\n",
        "model.add(Dense(128, activation='relu'))\n",
        "model.add(Dropout(0.2))  # Dropout for regularization"
      ],
      "metadata": {
        "id": "aAKDIcHykYGw"
      },
      "execution_count": null,
      "outputs": []
    },
    {
      "cell_type": "code",
      "source": [
        "model.add(Dense(1))"
      ],
      "metadata": {
        "id": "NGEmiGNMkbZa"
      },
      "execution_count": null,
      "outputs": []
    },
    {
      "cell_type": "code",
      "source": [
        "model.compile(optimizer=Adam(), loss='mean_squared_error', metrics=['mae'])"
      ],
      "metadata": {
        "id": "KVIVf6jOkcO-"
      },
      "execution_count": null,
      "outputs": []
    },
    {
      "cell_type": "code",
      "source": [
        "history = model.fit(X_train, Y_train, epochs=50, batch_size=32, validation_data=(X_test, Y_test), verbose=1)"
      ],
      "metadata": {
        "id": "9pkPfw5Ckeua"
      },
      "execution_count": null,
      "outputs": []
    },
    {
      "cell_type": "code",
      "source": [
        "fig = go.Figure()\n",
        "fig.add_trace(go.Scatter(\n",
        "    x=list(range(1, len(history.history['loss']) + 1)),\n",
        "    y=history.history['loss'],\n",
        "    mode='lines+markers',\n",
        "    name='Train Loss',\n",
        "    line=dict(color='blue'),\n",
        "    marker=dict(size=6, symbol='circle', color='blue')\n",
        "))\n",
        "\n",
        "fig.add_trace(go.Scatter(\n",
        "    x=list(range(1, len(history.history['val_loss']) + 1)),\n",
        "    y=history.history['val_loss'],\n",
        "    mode='lines+markers',\n",
        "    name='Validation Loss',\n",
        "    line=dict(color='red'),\n",
        "    marker=dict(size=6, symbol='circle', color='red')\n",
        "))\n",
        "\n",
        "fig.update_layout(\n",
        "    title='Training and Validation Loss Over Epochs',\n",
        "    xaxis_title='Epoch',\n",
        "    yaxis_title='Loss',\n",
        "    legend_title='Loss Type',\n",
        "    template='plotly_dark',\n",
        "    hovermode='closest'\n",
        ")\n",
        "\n",
        "fig.show()\n"
      ],
      "metadata": {
        "id": "xbj7UuRbJW8t"
      },
      "execution_count": null,
      "outputs": []
    },
    {
      "cell_type": "code",
      "source": [
        "test_01"
      ],
      "metadata": {
        "id": "4MQ7pPgFnzSn"
      },
      "execution_count": null,
      "outputs": []
    },
    {
      "cell_type": "code",
      "source": [
        "y_pred_nn = model.predict(X_test)"
      ],
      "metadata": {
        "id": "jCK2RFinoOwj"
      },
      "execution_count": null,
      "outputs": []
    },
    {
      "cell_type": "code",
      "source": [
        "print(f\"Neural Network - MAE: {mean_absolute_error(Y_test, y_pred_nn)}\")\n",
        "print(f\"Neural Network - MSE: {mean_squared_error(Y_test, y_pred_nn)}\")\n",
        "print(f\"Neural Network - RMSE: {np.sqrt(mean_squared_error(Y_test, y_pred_nn))}\")\n",
        "print(f\"Neural Network - R² Score: {r2_score(Y_test, y_pred_nn)}\")"
      ],
      "metadata": {
        "id": "W7qWwd_bM_E7"
      },
      "execution_count": null,
      "outputs": []
    },
    {
      "cell_type": "code",
      "source": [
        "import joblib\n",
        "joblib.dump(model, \"tensflow.joblib\")\n"
      ],
      "metadata": {
        "id": "Nv5fX_YAMVHS"
      },
      "execution_count": null,
      "outputs": []
    }
  ]
}